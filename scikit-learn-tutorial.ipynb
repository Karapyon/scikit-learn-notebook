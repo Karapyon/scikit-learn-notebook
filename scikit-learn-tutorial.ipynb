{
 "metadata": {
  "name": "",
  "signature": "sha256:89de4257a828feb0675cd09ff2cf3c5ec7314027fac807c7fa5eccfc3e9af599"
 },
 "nbformat": 3,
 "nbformat_minor": 0,
 "worksheets": [
  {
   "cells": [
    {
     "cell_type": "markdown",
     "metadata": {},
     "source": [
      "# Introduction\n",
      "\u6a5f\u68b0\u5b66\u7fd2\u3068\u306f\u3001\u305d\u306e\u540d\u306e\u901a\u308a\u300c\u6a5f\u68b0\u300d\u3092\u300c\u5b66\u7fd2\u300d\u3055\u305b\u308b\u3053\u3068\u3067\u3001\u3042\u308b\u30c7\u30fc\u30bf\u306b\u5bfe\u3057\u3066\u4e88\u6e2c\u3092\u884c\u3048\u308b\u3088\u3046\u306b\u3059\u308b\u3053\u3068\u3067\u3059\u3002\n",
      "\n",
      "* \u6a5f\u68b0\u3068\u306f\u3001\u5177\u4f53\u7684\u306b\u306f\u6570\u7406\u30fb\u7d71\u8a08\u7684\u306a\u30e2\u30c7\u30eb\u306b\u306a\u308a\u307e\u3059\u3002\n",
      "* \u5b66\u7fd2\u3068\u306f\u3001\u305d\u306e\u30e2\u30c7\u30eb\u306e\u30d1\u30e9\u30e1\u30fc\u30bf\u3092\u3001\u5b9f\u969b\u306e\u30c7\u30fc\u30bf\u306b\u6cbf\u3046\u3088\u3046\u8abf\u6574\u3059\u308b\u3053\u3068\u3067\u3059\u3002\n",
      "\n",
      "![](./pictures/machine_learning.PNG)\n",
      "\n",
      "\u5b66\u7fd2\u306e\u65b9\u6cd5\u306f\u5927\u304d\u304f\u5206\u3051\u30662\u3064\u3042\u308a\u307e\u3059\u3002  \n",
      "\n",
      "* \u6559\u5e2b\u6709\u308a\u5b66\u7fd2(Supervised learning): \u30c7\u30fc\u30bf\u3068\u3001\u305d\u3053\u304b\u3089\u4e88\u6e2c\u3055\u308c\u308b\u3079\u304d\u5024(\u6b63\u89e3)\u3092\u4e0e\u3048\u308b\u3053\u3068\u3067\u5b66\u7fd2\u3055\u305b\u307e\u3059\u3002\n",
      " * \u5206\u985e(Classification): \u30c7\u30fc\u30bf\u304c\u3044\u304f\u3064\u304b\u306e\u30ab\u30c6\u30b4\u30ea\u306b\u5206\u985e\u3067\u304d\u308b\u3068\u304d\u3001\u305d\u306e\u30ab\u30c6\u30b4\u30ea\u3092\u4e88\u6e2c\u3055\u305b\u307e\u3059(\u4f8b\uff1a\u624b\u66f8\u304d\u306e\u6570\u5b57\u304c0\uff5e9\u306e\u4f55\u308c\u304b\u3067\u3042\u308b\u304b\u5224\u5225\u3059\u308b\u306a\u3069)\n",
      " * \u56de\u5e30(Regression): \u30c7\u30fc\u30bf\u304b\u3089\u4e88\u6e2c\u3055\u308c\u308b\u9023\u7d9a\u7684\u306a\u5024\u3092\u4e88\u6e2c\u3057\u307e\u3059(\u4f8b\uff1a\u5e74\u9f62\u3068\u4f53\u91cd\u304b\u3089\u614e\u91cd\u3092\u4e88\u6e2c\u3059\u308b\u306a\u3069)\u3002\n",
      "* \u6559\u5e2b\u306a\u3057\u5b66\u7fd2(Unsupervised learning): \u30c7\u30fc\u30bf\u3092\u4e0e\u3048\u308b\u3053\u3068\u3067\u3001\u305d\u306e\u88cf\u5074\u306b\u3042\u308b\u69cb\u9020\u3092\u5b66\u7fd2\u3055\u305b\u307e\u3059\n",
      " * \u30af\u30e9\u30b9\u30bf\u30ea\u30f3\u30b0: \u4f3c\u3066\u3044\u308b\u30c7\u30fc\u30bf\u3092\u307e\u3068\u3081\u308b\u3053\u3068\u3067\u3001\u30c7\u30fc\u30bf\u304c\u3069\u308c\u304f\u3089\u3044\u306e\u96c6\u5408(\u30af\u30e9\u30b9\u30bf)\u304b\u3089\u69cb\u6210\u3055\u308c\u308b\u306e\u304b\u3092\u4e88\u6e2c\u3057\u307e\u3059\u3002\n",
      " * \u5206\u5e03\u63a8\u5b9a\uff1a \u30c7\u30fc\u30bf\u3092\u751f\u307f\u51fa\u3057\u3066\u3044\u308b\u78ba\u7387\u5206\u5e03\u306e\u63a8\u5b9a\u3092\u884c\u3044\u307e\u3059\u3002\n",
      "\n",
      "[scikit-learn](http://scikit-learn.org/stable/index.html)\u306f\u3001Python\u88fd\u306e\u6a5f\u68b0\u5b66\u7fd2\u30e9\u30a4\u30d6\u30e9\u30ea\u3067\u3059\u3002  \n",
      "\u3053\u306e\u4e2d\u306b\u306f\u69d8\u3005\u306a\u300c\u6a5f\u68b0\u300d\u304c\u5b9f\u88c5\u3055\u308c\u3066\u304a\u308a\u3001\u305d\u306e\u300c\u5b66\u7fd2\u300d\u306e\u305f\u3081\u306e\u4ed5\u7d44\u307f\u3082\u5099\u308f\u3063\u3066\u3044\u307e\u3059\u3002  \n",
      "\n",
      "\u4ee5\u4e0b\u3067\u306f\u3001\u3053\u306escikit-learn\u3092\u5229\u7528\u3057\u30c7\u30fc\u30bf\u3092\u6e96\u5099\u3059\u308b\u3068\u3053\u308d\u304b\u3089\u5b9f\u969b\u306b\u30e2\u30c7\u30eb\u3092\u69cb\u7bc9\u3057\u5b66\u7fd2\u30fb\u8a55\u4fa1\u3092\u884c\u3046\u307e\u3067\u306e\u624b\u9806\u3092\u89e3\u8aac\u3057\u307e\u3059\u3002\n",
      "\n",
      "1. [\u30c7\u30fc\u30bf\u306e\u6e96\u5099](#Loading-the-Data) \n",
      "2. [\u30c7\u30fc\u30bf\u306e\u6574\u5099](#Arrange-the-Data) \n",
      "3. [\u30c7\u30fc\u30bf\u306e\u5206\u5272](#Split-the-Data) \n",
      "4. [\u30e2\u30c7\u30eb\u306e\u9078\u629e](#Select-the-Model)\n",
      "5. [\u30e2\u30c7\u30eb\u306e\u5b66\u7fd2](#Training-the-Model)\n",
      "6. [\u30e2\u30c7\u30eb\u306e\u4fdd\u7ba1](#Store-the-Model)\n"
     ]
    },
    {
     "cell_type": "code",
     "collapsed": false,
     "input": [
      "# enable showing matplotlib image inline\n",
      "%matplotlib inline"
     ],
     "language": "python",
     "metadata": {},
     "outputs": [],
     "prompt_number": 1
    },
    {
     "cell_type": "heading",
     "level": 2,
     "metadata": {},
     "source": [
      "Loading the Data"
     ]
    },
    {
     "cell_type": "markdown",
     "metadata": {},
     "source": [
      "scikit-learn\u3067\u306f\u3001\u3088\u304f\u4f8b\u3068\u3057\u3066\u5229\u7528\u3055\u308c\u308b\u30c7\u30fc\u30bf\u30bb\u30c3\u30c8(iris\u306e\u30c7\u30fc\u30bf\u3084\u624b\u66f8\u304d\u6587\u5b57\u306e\u30c7\u30fc\u30bf\u306a\u3069)\u3092\u4ee5\u4e0b\u306e\u3088\u3046\u306b\u7c21\u5358\u306b\u53d6\u5f97\u3059\u308b\u3053\u3068\u304c\u3067\u304d\u307e\u3059\u3002\n",
      "\n",
      "[Dataset loading utilities](http://scikit-learn.org/stable/datasets/index.html#datasets)"
     ]
    },
    {
     "cell_type": "code",
     "collapsed": false,
     "input": [
      "from sklearn import datasets\n",
      "iris = datasets.load_iris()\n",
      "digits = datasets.load_digits()"
     ],
     "language": "python",
     "metadata": {},
     "outputs": [],
     "prompt_number": 2
    },
    {
     "cell_type": "markdown",
     "metadata": {},
     "source": [
      "`dataset`\u306f\u3001\u4ee5\u4e0b\u306e\u5185\u5bb9\u3067\u69cb\u6210\u3055\u308c\u3066\u3044\u307e\u3059\u3002\n",
      "\n",
      "* `data`: \u30c7\u30fc\u30bf\u672c\u4f53(\u5e38\u306b\u30b5\u30f3\u30d7\u30eb\u00d7\u7279\u5fb4\u91cf\u306e\u4e8c\u6b21\u5143\u914d\u5217\u3002\u753b\u50cf\u306a\u3069\u30c7\u30fc\u30bf\u81ea\u4f53\u304c2\u6b21\u5143\u3067\u8868\u793a\u3055\u308c\u308b\u5834\u5408\u306f\u3001`images`\u304b\u3089\u30a2\u30af\u30bb\u30b9\u3067\u304d\u308b)\n",
      "* `target`: \u30c7\u30fc\u30bf\u304b\u3089\u4e88\u6e2c\u3055\u308c\u308b\u3079\u304d\u6b63\u89e3(\u6559\u5e2b\u30c7\u30fc\u30bf)\n",
      "* `feature_names`: \u7279\u5fb4\u91cf\u9805\u76ee\u306e\u540d\u524d\n",
      "* `target_names` : \u4e88\u6e2c\u5024\u9805\u76ee\u306e\u540d\u524d\n",
      "* `DESCR`: \u30c7\u30fc\u30bf\u306e\u8aac\u660e"
     ]
    },
    {
     "cell_type": "code",
     "collapsed": false,
     "input": [
      "print(iris.keys())"
     ],
     "language": "python",
     "metadata": {},
     "outputs": [
      {
       "output_type": "stream",
       "stream": "stdout",
       "text": [
        "dict_keys(['target', 'feature_names', 'target_names', 'data', 'DESCR'])\n"
       ]
      }
     ],
     "prompt_number": 14
    },
    {
     "cell_type": "markdown",
     "metadata": {},
     "source": [
      "\u901a\u5e38\u306e\u30c7\u30fc\u30bf\u8aad\u307f\u8fbc\u307f\u306b\u306f\u3001Python\u306b\u6a19\u6e96\u3067\u642d\u8f09\u3055\u308c\u3066\u3044\u308b`csv`\u306a\u3069\u304c\u4f7f\u3048\u307e\u3059\u3002"
     ]
    },
    {
     "cell_type": "code",
     "collapsed": false,
     "input": [
      "import csv\n",
      "import numpy as np\n",
      "\n",
      "encoding = \"utf-8\"\n",
      "ratings = []\n",
      "with open(\"./data/ratings.txt\", encoding=\"utf-8\") as f:\n",
      "    content = csv.reader(f, delimiter=\"\\t\")\n",
      "    lines = list(content)\n",
      "    ratings = np.array(lines)\n",
      "\n",
      "print(ratings)"
     ],
     "language": "python",
     "metadata": {},
     "outputs": [
      {
       "output_type": "stream",
       "stream": "stdout",
       "text": [
        "[['1' 'good']\n",
        " ['2' 'bad']\n",
        " ['3' 'vgood']]\n"
       ]
      }
     ],
     "prompt_number": 15
    },
    {
     "cell_type": "heading",
     "level": 2,
     "metadata": {},
     "source": [
      "Arrange the Data"
     ]
    },
    {
     "cell_type": "markdown",
     "metadata": {},
     "source": [
      "\u30c7\u30fc\u30bf\u306e\u4e2d\u306e\u5404\u7279\u5fb4\u91cf\u306f\u3001\u5225\u3005\u306e\u5e73\u5747\u30fb\u5206\u6563\u3092\u6301\u3063\u3066\u3044\u307e\u3059(\u4f8b: \u4f53\u91cd\u3068\u8eab\u9577\u3067\u306f\u5e73\u5747\u3082\u5206\u6563\u3082\u7570\u306a\u308b)\u3002  \n",
      "\u3053\u306e\u72b6\u614b\u3060\u3068\u5b66\u7fd2\u304c\u52b9\u7387\u7684\u306b\u9032\u307e\u306a\u3044\u305f\u3081\u3001\u5404\u7279\u5fb4\u91cf\u306e\u5e73\u5747\u30920\u30fb\u5206\u6563\u30921\u306b\u305d\u308d\u3048\u308b\u6b63\u898f\u5316(Normalization)\u3092\u884c\u3046\u3053\u3068\u304c\u4e00\u822c\u7684\u3067\u3059\u3002  \n",
      "(\u3053\u308c\u306b\u52a0\u3048\u3001\u7279\u5fb4\u91cf\u9593\u306e\u76f8\u95a2\u3092\u6d88\u3059\u767d\u8272\u5316(Whitening)\u307e\u3067\u884c\u3046\u3053\u3068\u3082\u3042\u308a\u307e\u3059)\u3002  \n",
      "\n",
      "scikit-learn\u3067\u306f[`preprocessing`](http://scikit-learn.org/stable/modules/preprocessing.html)\u3092\u4f7f\u7528\u3059\u308b\u3053\u3068\u3067\u3053\u306e\u4f5c\u696d\u3092\u3068\u3066\u3082\u7c21\u5358\u306b\u884c\u3046\u3053\u3068\u304c\u3067\u304d\u307e\u3059\u3002\u4ee5\u4e0b\u3067\u306f\u3001`StandardScaler`\u3092\u4f7f\u3063\u3066\u51e6\u7406\u3092\u884c\u3063\u3066\u3044\u307e\u3059\u3002"
     ]
    },
    {
     "cell_type": "code",
     "collapsed": false,
     "input": [
      "import numpy as np\n",
      "from sklearn import preprocessing\n",
      "\n",
      "iris_data = iris[\"data\"]\n",
      "scaler = preprocessing.StandardScaler().fit(iris_data)\n",
      "describe = lambda t, x: (t + \":\\n {0}\").format({\"mean\": np.mean(x, axis=0), \"std\": np.std(x, axis=0)})\n",
      "\n",
      "# before scaling\n",
      "print(describe(\"Before scaling\", iris_data))\n",
      "\n",
      "# scaling\n",
      "iris_data_scaled = scaler.transform(iris_data)\n",
      "print(describe(\"After scaling (mean is almost 0, std = 1)\", iris_data_scaled))\n",
      "\n",
      "# inverse\n",
      "iris_data_inv = scaler.inverse_transform(iris_data_scaled)\n",
      "print(describe(\"Inverse the scaling\", iris_data_inv))"
     ],
     "language": "python",
     "metadata": {},
     "outputs": [
      {
       "output_type": "stream",
       "stream": "stdout",
       "text": [
        "Before scaling:\n",
        " {'mean': array([ 5.84333333,  3.054     ,  3.75866667,  1.19866667]), 'std': array([ 0.82530129,  0.43214658,  1.75852918,  0.76061262])}\n",
        "After scaling (mean is almost 0, std = 1):\n",
        " {'mean': array([ -1.69031455e-15,  -1.63702385e-15,  -1.48251781e-15,\n",
        "        -1.62314606e-15]), 'std': array([ 1.,  1.,  1.,  1.])}\n",
        "Inverse the scaling:\n",
        " {'mean': array([ 5.84333333,  3.054     ,  3.75866667,  1.19866667]), 'std': array([ 0.82530129,  0.43214658,  1.75852918,  0.76061262])}\n"
       ]
      }
     ],
     "prompt_number": 16
    },
    {
     "cell_type": "markdown",
     "metadata": {},
     "source": [
      "\u203b`preprocessing`\u306b\u306f`Normalization`\u3068\u3044\u3046\u30e2\u30b8\u30e5\u30fc\u30eb\u304c\u3042\u308a\u307e\u3059\u304c\u3001\u3053\u308c\u306f\u4e00\u822c\u7684\u306b\u8a00\u3046\u6b63\u898f\u5316\u3092\u884c\u3046\u305f\u3081\u306e\u3082\u306e\u3067\u306f\u306a\u3044\u306e\u3067\u6ce8\u610f\u3057\u3066\u304f\u3060\u3055\u3044\u3002  \n",
      "\n",
      "\u307e\u305f\u3001\u30c7\u30fc\u30bf\u306e\u4e2d\u306b\u306f\u30c6\u30ad\u30b9\u30c8\u3067\u3042\u308b\u9805\u76ee\u304c\u542b\u307e\u308c\u3066\u3044\u308b\u3053\u3068\u3082\u3042\u308a\u307e\u3059\u3002"
     ]
    },
    {
     "cell_type": "code",
     "collapsed": false,
     "input": [
      "print(ratings)"
     ],
     "language": "python",
     "metadata": {},
     "outputs": [
      {
       "output_type": "stream",
       "stream": "stdout",
       "text": [
        "[['1' 'good']\n",
        " ['2' 'bad']\n",
        " ['3' 'vgood']]\n"
       ]
      }
     ],
     "prompt_number": 17
    },
    {
     "cell_type": "markdown",
     "metadata": {},
     "source": [
      "\u4e0a\u8a18\u306e`good`\u306a\u3069\u306e\u30c6\u30ad\u30b9\u30c8\u9805\u76ee\u306f\u3001\u6700\u7d42\u7684\u306b\u306f\u6570\u5024\u306b\u3057\u306a\u3044\u3068\u30c7\u30fc\u30bf\u3092\u5b66\u7fd2\u3055\u305b\u308b\u3053\u3068\u304c\u3067\u304d\u307e\u305b\u3093\u3002  \u3053\u308c\u3082`preprocessing`\u3092\u5229\u7528\u3059\u308b\u3053\u3068\u3067\u7c21\u5358\u306b\u6570\u5024\u3078\u5909\u63db\u3059\u308b\u3053\u3068\u304c\u3067\u304d\u307e\u3059\u3002"
     ]
    },
    {
     "cell_type": "code",
     "collapsed": false,
     "input": [
      "from sklearn import preprocessing\n",
      "\n",
      "le = preprocessing.LabelEncoder()\n",
      "le.fit([\"bad\", \"nbad\", \"good\", \"vgood\"])\n",
      "\n",
      "encoded_rating = le.transform(ratings[:, 1])\n",
      "print(\"{0} is encoded to {1}\".format(ratings[:, 1], encoded_rating))"
     ],
     "language": "python",
     "metadata": {},
     "outputs": [
      {
       "output_type": "stream",
       "stream": "stdout",
       "text": [
        "['good' 'bad' 'vgood'] is encoded to [1 0 3]\n"
       ]
      }
     ],
     "prompt_number": 20
    },
    {
     "cell_type": "markdown",
     "metadata": {},
     "source": [
      "\u3053\u306e\u4ed6\u306b\u3082\u6b20\u640d\u5024\u306e\u4fee\u6b63\u3092\u884c\u3046`Imputer`\u306a\u3069\u3001`preprocessing`\u306b\u306f\u30c7\u30fc\u30bf\u306e\u6574\u5099\u306b\u5f79\u7acb\u3064\u30e2\u30b8\u30e5\u30fc\u30eb\u304c\u542b\u307e\u308c\u3066\u3044\u307e\u3059\u3002"
     ]
    },
    {
     "cell_type": "heading",
     "level": 2,
     "metadata": {},
     "source": [
      "Split the Data"
     ]
    },
    {
     "cell_type": "markdown",
     "metadata": {},
     "source": [
      "\u5b66\u7fd2\u306b\u5f53\u305f\u3063\u3066\u306f\u3001\u30c7\u30fc\u30bf\u3092\u5b66\u7fd2\u7528(training set)\u3068\u8a55\u4fa1\u7528(test set)\u306b\u5206\u3051\u3066\u304a\u304d\u307e\u3059\u3002\u5b66\u7fd2\u306b\u4f7f\u3063\u305f\u30c7\u30fc\u30bf\u306b\u5bfe\u3057\u3066\u4e88\u6e2c\u304c\u3046\u307e\u304f\u3067\u304d\u308b\u306e\u306f\u5f53\u305f\u308a\u524d\u306a\u306e\u3067\u3001\u6b63\u78ba\u306b\u7cbe\u5ea6\u3092\u6e2c\u5b9a\u3059\u308b\u305f\u3081\u3001\u8a55\u4fa1\u7528\u306e\u30c7\u30fc\u30bf\u306f\u5b66\u7fd2\u7528\u3068\u306f\u5225\u306b\u3057\u3066\u304a\u304d\u307e\u3059\u3002\n",
      "\n",
      "\u5358\u7d14\u306b\u5b66\u7fd2\u7528\u3068\u8a55\u4fa1\u7528\u306b2\u5206\u5272\u3059\u308b\u306e\u3067\u306a\u304f\u3001\u30c7\u30fc\u30bf\u5168\u4f53\u3092\u4f55\u500b\u304b\u306b\u5206\u5272\u3057\u3001\u8a55\u4fa1\u7528\u3068\u3057\u3066\u4f7f\u3046\u30c7\u30fc\u30bf\u3092\u5207\u308a\u66ff\u3048\u3066\u3044\u304f\u3068\u3044\u3046\u65b9\u6cd5\u3082\u3042\u308a\u307e\u3059\u3002\u3053\u308c\u306b\u3088\u308a\u3001\u5c11\u306a\u3044\u30c7\u30fc\u30bf\u3067\u3082\u52b9\u7387\u7684\u306b\u5b66\u7fd2\u3092\u884c\u3046\u3053\u3068\u304c\u3067\u304d\u307e\u3059\u3002\n",
      "\n",
      "[K-FOLD CROSS-VALIDATION, WITH MATLAB CODE](https://chrisjmccormick.wordpress.com/2013/07/31/k-fold-cross-validation-with-matlab-code/)\n",
      "\n",
      "![cross_validation](./pictures/cross_validation.PNG)\n",
      "\n",
      "\u3053\u308c\u306fCross Validation\u3068\u547c\u3070\u308c\u308b\u624b\u6cd5\u3067\u3059\u304c\u3001scikit-learn\u3067\u306f\u5358\u7d14\u306a\u5206\u5272\u304b\u3089\u3053\u306eCross Validation\u307e\u3067\u3001[`cross-validation`](http://scikit-learn.org/stable/modules/cross_validation.html#cross-validation)\u3067\u884c\u3048\u308b\u3088\u3046\u306b\u306a\u3063\u3066\u3044\u307e\u3059\u3002\n"
     ]
    },
    {
     "cell_type": "code",
     "collapsed": false,
     "input": [
      "from sklearn import cross_validation\n",
      "\n",
      "test_size = 0.3  # use 30% of data to test the model\n",
      "X_train, X_test, y_train, y_test = cross_validation.train_test_split(iris.data, iris.target, test_size=test_size, random_state=0)\n",
      "test_data_rate = X_test.shape[0] * 100 / (X_train.shape[0] + X_test.shape[0])\n",
      "\n",
      "print(\"test data is {0}% of data\".format(test_data_rate))"
     ],
     "language": "python",
     "metadata": {},
     "outputs": [
      {
       "output_type": "stream",
       "stream": "stdout",
       "text": [
        "test data is 30.0% of data\n"
       ]
      }
     ],
     "prompt_number": 3
    },
    {
     "cell_type": "markdown",
     "metadata": {},
     "source": [
      "Cross Validation\u3092\u5229\u7528\u3059\u308b\u969b\u306f\u3001\u30c7\u30fc\u30bf\u306e\u5206\u5272\u3068\u5b66\u7fd2\u3092\u5408\u308f\u305b\u3066\u884c\u3063\u3066\u304f\u308c\u308b`cross_val_score`\u3092\u5229\u7528\u3059\u308b\u306e\u304c\u7c21\u5358\u3067\u3059\u304c(\u5f8c\u8ff0\u3057\u307e\u3059)\u3001\u30c7\u30fc\u30bf\u306e\u5206\u5272\u306e\u307f\u884c\u3046\u5834\u5408\u306f`KFold`\u3092\u5229\u7528\u3057\u307e\u3059\u3002"
     ]
    },
    {
     "cell_type": "code",
     "collapsed": false,
     "input": [
      "from sklearn.cross_validation import KFold\n",
      "\n",
      "length = len(iris.target)\n",
      "split_count = 3  # divide into 3 set\n",
      "kf = KFold(length, n_folds=split_count)\n",
      "\n",
      "for i, train_test_indexes in enumerate(kf):\n",
      "    train, test = train_test_indexes\n",
      "    x_train = iris.data[train]\n",
      "    y_train = iris.target[train]\n",
      "    \n",
      "    x_test = iris.data[test]\n",
      "    y_test = iris.target[test]\n",
      "\n",
      "    print(\"{0}: training {1}, test {2}\".format(i, len(y_train), len(y_test)))\n"
     ],
     "language": "python",
     "metadata": {},
     "outputs": [
      {
       "output_type": "stream",
       "stream": "stdout",
       "text": [
        "0: training 100, test 50\n",
        "1: training 100, test 50\n",
        "2: training 100, test 50\n"
       ]
      }
     ],
     "prompt_number": 4
    },
    {
     "cell_type": "markdown",
     "metadata": {},
     "source": [
      "\u3053\u308c\u3067\u30c7\u30fc\u30bf\u306e\u6e96\u5099\u306f\u6574\u3063\u305f\u306e\u3067\u3001\u3044\u3088\u3044\u3088\u30e2\u30c7\u30eb\u306e\u69cb\u7bc9\u3068\u5b66\u7fd2\u3092\u884c\u3063\u3066\u3044\u304d\u307e\u3059\u3002"
     ]
    },
    {
     "cell_type": "heading",
     "level": 2,
     "metadata": {},
     "source": [
      "Select the Model"
     ]
    },
    {
     "cell_type": "markdown",
     "metadata": {},
     "source": [
      "\u6a5f\u68b0\u5b66\u7fd2\u306b\u4f7f\u3048\u308b\u30e2\u30c7\u30eb\u306f\u8272\u3005\u306a\u3082\u306e\u304c\u3042\u308a\u3001scikit-learn\u3067\u3082\u69d8\u3005\u306a\u30e2\u30c7\u30eb\u304c\u4f7f\u3048\u308b\u3088\u3046\u306b\u306a\u3063\u3066\u3044\u307e\u3059\u3002  \n",
      "\u305f\u3060\u3001\u305d\u306e\u5206\u4e00\u4f53\u3069\u308c\u3092\u9078\u3079\u3070\u826f\u3044\u306e\u304b\u306f\u975e\u5e38\u306b\u60a9\u307e\u3057\u3044\u554f\u984c\u3067\u3059\u3002  \n",
      "\n",
      "\u4e00\u3064\u306e\u57fa\u6e96\u3068\u3057\u3066\u3001\u4ee5\u4e0b\u306e\u3088\u3046\u306a\u30d5\u30ed\u30fc\u30c1\u30e3\u30fc\u30c8\u304c\u3042\u308a\u307e\u3059\u3002\u3053\u308c\u306f\u3001scikit-learn\u306e\u4e2d\u306e\u30a2\u30eb\u30b4\u30ea\u30ba\u30e0\u3092\u3069\u306e\u3088\u3046\u306a\u57fa\u6e96\u3067\u9078\u629e\u3057\u305f\u3089\u3088\u3044\u306e\u304b\u3092\u56f3\u793a\u3057\u305f\u3082\u306e\u3067\u3059\u3002\n",
      "\n",
      "[Machine Learning Cheat Sheet (for scikit-learn)](http://peekaboo-vision.blogspot.jp/2013/01/machine-learning-cheat-sheet-for-scikit.html)\n",
      "\n",
      "scikit-learn\u306b\u306fNeural Network\u304c\u306a\u3044\u305f\u3081\u56f3\u4e2d\u306b\u3082\u3042\u308a\u307e\u305b\u3093\u304c\u3001\u57fa\u672c\u7684\u306b\u306fSVC/SVR\u306e\u4ee3\u66ff\u3067\u3042\u308a\u3001\u30c7\u30fc\u30bf\u304c\u591a\u3044\u307b\u3069\u7cbe\u5ea6\u304c\u5411\u4e0a\u3057\u307e\u3059(\u8a18\u4e8b\u4e2d\u30b3\u30e1\u30f3\u30c8\u3088\u308a)\u3002\n",
      "\n",
      "\u30dd\u30a4\u30f3\u30c8\u3068\u3057\u3066\u306f\u4ee5\u4e0b\u306b\u306a\u308a\u307e\u3059\u3002\n",
      "\n",
      "* \u6700\u4f4e\u3067\u308250\u4ef6\u4ee5\u4e0a\u306f\u30c7\u30fc\u30bf\u3092\u96c6\u3081\u308b\n",
      "* \u5358\u7d14\u306a\u30e2\u30c7\u30eb\u304b\u3089\u59cb\u3081\u308b(Classification\u306a\u3089LinerSVC\u3001Regression\u306a\u3089Rasso/ElasticNet\u306a\u3069)\n",
      "* Just looking\u304b\u3089\u59cb\u3081\u308b(\u30c7\u30fc\u30bf\u3092\u898b\u3066\u3001\u5fc5\u8981\u306b\u5fdc\u3058\u6b21\u5143\u524a\u9664\u3092\u884c\u3046)\n",
      "\n",
      "\u8a18\u4e8b\u4e2d\u3067\u3082\u89e6\u308c\u3089\u308c\u3066\u3044\u307e\u3059\u304c\u3001\u6a5f\u68b0\u5b66\u7fd2\u3067\u6b63\u3057\u3044\u7d50\u679c\u3092\u51fa\u3059\u306b\u306f\u30c7\u30fc\u30bf\u306e\u6574\u5099(Just looking)\u304c\u6b20\u304b\u305b\u307e\u305b\u3093\u3002\u30c7\u30fc\u30bf\u3092\u6574\u5099\u3057\u305f\u4e0a\u3067\u5358\u7d14\u306a\u30e2\u30c7\u30eb\u3067\u691c\u8a3c\u3092\u3057\u3066\u307f\u3066\u3001\u5fc5\u8981\u306b\u5fdc\u3058\u4ed6\u306e\u30e2\u30c7\u30eb\u3092\u8a66\u3057\u3066\u3044\u304f\u3068\u3044\u3046\u306e\u304c\u57fa\u672c\u7684\u306a\u9032\u3081\u65b9\u306b\u306a\u308a\u307e\u3059\u3002\n"
     ]
    },
    {
     "cell_type": "heading",
     "level": 2,
     "metadata": {},
     "source": [
      "Training the Model"
     ]
    },
    {
     "cell_type": "markdown",
     "metadata": {},
     "source": [
      "\u4ee5\u4e0b\u3067\u306f\u3001\u5206\u985e\u3092\u884c\u3046\u969b\u306b\u3088\u304f\u5229\u7528\u3055\u308c\u308b[Support Vector Machine](http://scikit-learn.org/stable/modules/svm.html)\u3092\u30d9\u30fc\u30b9\u306b\u305d\u306e\u5b66\u7fd2\u65b9\u6cd5\u306a\u3069\u3092\u89e3\u8aac\u3057\u3066\u3044\u304d\u307e\u3059\u3002"
     ]
    },
    {
     "cell_type": "code",
     "collapsed": false,
     "input": [
      "from sklearn import svm\n",
      "clf = svm.SVC(gamma=0.001, C=100.)"
     ],
     "language": "python",
     "metadata": {},
     "outputs": [],
     "prompt_number": 1
    },
    {
     "cell_type": "markdown",
     "metadata": {},
     "source": [
      "\u30e2\u30c7\u30eb\u306e\u69cb\u7bc9\u306f\u305f\u3063\u305f\u3053\u308c\u3060\u3051\u3067\u304a\u3057\u307e\u3044\u3067\u3059\u3002\u305d\u3057\u3066\u3001\u5b66\u7fd2\u3082\u305f\u3063\u305f\u4e00\u884c\u3067\u6e08\u307e\u305b\u308b\u3053\u3068\u304c\u3067\u304d\u307e\u3059(\u4ee5\u4e0b\u306e\u4f8b\u3067\u306f\u3001\u6700\u5f8c\u306e1\u30c7\u30fc\u30bf\u4ee5\u5916\u3092\u5b66\u7fd2\u30c7\u30fc\u30bf\u3068\u3057\u3066\u6e21\u3057\u3066\u3044\u307e\u3059)\u3002"
     ]
    },
    {
     "cell_type": "code",
     "collapsed": false,
     "input": [
      "clf.fit(digits.data[:-1], digits.target[:-1])"
     ],
     "language": "python",
     "metadata": {},
     "outputs": [
      {
       "metadata": {},
       "output_type": "pyout",
       "prompt_number": 4,
       "text": [
        "SVC(C=100.0, cache_size=200, class_weight=None, coef0=0.0, degree=3,\n",
        "  gamma=0.001, kernel='rbf', max_iter=-1, probability=False,\n",
        "  random_state=None, shrinking=True, tol=0.001, verbose=False)"
       ]
      }
     ],
     "prompt_number": 4
    },
    {
     "cell_type": "markdown",
     "metadata": {},
     "source": [
      "\u305d\u3057\u3066\u3001\u53d6\u3063\u3066\u304a\u3044\u305f\u6700\u5f8c\u306e\u4e00\u3064\u306e\u30c7\u30fc\u30bf\u306b\u3064\u3044\u3066\u3001\u30e2\u30c7\u30eb\u3092\u4f7f\u3063\u3066\u4e88\u6e2c\u3055\u305b\u3066\u307f\u307e\u3059\u3002"
     ]
    },
    {
     "cell_type": "code",
     "collapsed": false,
     "input": [
      "clf.predict(digits.data[-1])"
     ],
     "language": "python",
     "metadata": {},
     "outputs": [
      {
       "metadata": {},
       "output_type": "pyout",
       "prompt_number": 5,
       "text": [
        "array([8])"
       ]
      }
     ],
     "prompt_number": 5
    },
    {
     "cell_type": "markdown",
     "metadata": {},
     "source": [
      "\u5b9f\u969b\u5224\u5b9a\u3057\u305f\u753b\u50cf\u306f\u4ee5\u4e0b\u3067\u3059\u3002\u300c8\u300d\u3068\u3044\u3046\u4e88\u6e2c\u306f\u305d\u3053\u305d\u3053\u7684\u3092\u5f97\u3066\u3044\u308b\u306e\u3067\u306f\u306a\u3044\u304b\u3068\u601d\u3044\u307e\u3059\u3002"
     ]
    },
    {
     "cell_type": "code",
     "collapsed": false,
     "input": [
      "import matplotlib.pyplot as plt\n",
      "\n",
      "plt.figure(1, figsize=(3, 3))\n",
      "plt.imshow(digits.images[-1], cmap=plt.cm.gray_r, interpolation='nearest')\n",
      "plt.show()"
     ],
     "language": "python",
     "metadata": {},
     "outputs": [
      {
       "metadata": {},
       "output_type": "display_data",
       "png": "[encoded data removed]",
       "text": [
        "<matplotlib.figure.Figure at 0xb1594d0>"
       ]
      }
     ],
     "prompt_number": 8
    },
    {
     "cell_type": "markdown",
     "metadata": {},
     "source": [
      "\u4eca\u5ea6\u306fCross Validation\u3092\u4f7f\u3063\u3066\u307f\u307e\u3059\u3002`cv`\u3067\u306f\u30c7\u30fc\u30bf\u306e\u5206\u5272\u6570(fold\u306e\u6570)\u3092\u6307\u5b9a\u3057\u307e\u3059\u3002"
     ]
    },
    {
     "cell_type": "code",
     "collapsed": false,
     "input": [
      "from sklearn import cross_validation\n",
      "\n",
      "scores = cross_validation.cross_val_score(clf, digits.data, digits.target, cv=5)\n",
      "print(\"Accuracy: %0.2f (+/- %0.2f)\" % (scores.mean(), scores.std() * 2))"
     ],
     "language": "python",
     "metadata": {},
     "outputs": [
      {
       "output_type": "stream",
       "stream": "stdout",
       "text": [
        "Accuracy: 0.95 (+/- 0.04)\n"
       ]
      }
     ],
     "prompt_number": 12
    },
    {
     "cell_type": "heading",
     "level": 3,
     "metadata": {},
     "source": [
      "Search Model Parameters"
     ]
    },
    {
     "cell_type": "markdown",
     "metadata": {},
     "source": [
      "\u4e0a\u8a18\u3067\u306f\u30e2\u30c7\u30eb\u306e\u30d1\u30e9\u30e1\u30fc\u30bf\u3092\u56fa\u5b9a\u3067\u6307\u5b9a\u3057\u307e\u3057\u305f\u304c(`gamma=0.001`\u306a\u3069)\u3001\u5b9f\u969b\u3069\u3093\u306a\u30d1\u30e9\u30e1\u30fc\u30bf\u3092\u8a2d\u5b9a\u3059\u3079\u304d\u304b\u306f\u975e\u5e38\u306b\u60a9\u307e\u3057\u3044\u554f\u984c\u3067\u3059\u3002  \n",
      "\u6700\u9069\u306a\u30d1\u30e9\u30e1\u30fc\u30bf\u3092\u63a2\u3059\u305f\u3081\u3001\u5404\u30d1\u30e9\u30e1\u30fc\u30bf\u304c\u53d6\u308a\u3046\u308b\u7bc4\u56f2\u3092\u6c7a\u3081\u3001\u305d\u306e\u7d44\u307f\u5408\u308f\u305b\u3092\u8a66\u3057\u3066\u3044\u304f\u3068\u3044\u3046\u624b\u6cd5\u304c\u3042\u308a\u307e\u3059\u3002\u3053\u308c\u3092Grid Search\u3068\u547c\u3073\u307e\u3059\u304c\u3001scikit-learn\u3067\u306f\u3053\u308c\u3092\u884c\u3046\u305f\u3081\u306e[Grid Search](http://scikit-learn.org/stable/modules/grid_search.html#grid-search)\u30e2\u30b8\u30e5\u30fc\u30eb\u304c\u63d0\u4f9b\u3055\u308c\u3066\u3044\u307e\u3059\u3002"
     ]
    },
    {
     "cell_type": "code",
     "collapsed": false,
     "input": [
      "from sklearn.grid_search import GridSearchCV\n",
      "from sklearn.svm import SVC\n",
      "\n",
      "\n",
      "candidates = [{'kernel': ['rbf'], 'gamma': [1e-3, 1e-4], 'C': [1, 10, 100]},\n",
      "              {'kernel': ['linear'], 'C': [1, 10, 100]}]\n",
      "\n",
      "clf = GridSearchCV(SVC(C=1), candidates, cv=5, scoring=\"f1\")\n",
      "clf.fit(digits.data, digits.target)\n",
      "\n",
      "print(clf.best_estimator_)\n",
      "\n",
      "for params, mean_score, scores in clf.grid_scores_:\n",
      "    print(\"%0.3f (+/-%0.03f) for %r\" % (mean_score, scores.std() / 2, params))\n"
     ],
     "language": "python",
     "metadata": {},
     "outputs": [
      {
       "output_type": "stream",
       "stream": "stdout",
       "text": [
        "SVC(C=10, cache_size=200, class_weight=None, coef0=0.0, degree=3, gamma=0.001,\n",
        "  kernel='rbf', max_iter=-1, probability=False, random_state=None,\n",
        "  shrinking=True, tol=0.001, verbose=False)\n",
        "0.972 (+/-0.008) for {'kernel': 'rbf', 'gamma': 0.001, 'C': 1}\n",
        "0.947 (+/-0.011) for {'kernel': 'rbf', 'gamma': 0.0001, 'C': 1}\n",
        "0.973 (+/-0.007) for {'kernel': 'rbf', 'gamma': 0.001, 'C': 10}\n",
        "0.959 (+/-0.012) for {'kernel': 'rbf', 'gamma': 0.0001, 'C': 10}\n",
        "0.973 (+/-0.007) for {'kernel': 'rbf', 'gamma': 0.001, 'C': 100}\n",
        "0.963 (+/-0.009) for {'kernel': 'rbf', 'gamma': 0.0001, 'C': 100}\n",
        "0.949 (+/-0.010) for {'kernel': 'linear', 'C': 1}\n",
        "0.949 (+/-0.010) for {'kernel': 'linear', 'C': 10}\n",
        "0.949 (+/-0.010) for {'kernel': 'linear', 'C': 100}\n"
       ]
      }
     ],
     "prompt_number": 16
    },
    {
     "cell_type": "heading",
     "level": 3,
     "metadata": {},
     "source": [
      "Select Model Features"
     ]
    },
    {
     "cell_type": "markdown",
     "metadata": {},
     "source": [
      "\u7279\u5fb4\u91cf\u304c\u591a\u3044\u5834\u5408\u306f\u3001\u3069\u306e\u7279\u5fb4\u91cf\u3092\u30e2\u30c7\u30eb\u306b\u4f7f\u3046\u306e\u304b\u3082\u91cd\u8981\u306a\u554f\u984c\u3067\u3059\u3002scikit-learn\u306b\u306f\u3001\u3069\u306e\u7279\u5fb4\u91cf\u304c\u4e88\u6e2c\u5024\u306b\u5bc4\u4e0e\u3057\u3066\u3044\u308b\u304b\u8abf\u3079\u308b\u305f\u3081\u306e\u6a5f\u80fd\u304c\u3042\u308a\u307e\u3059\u3002  \n",
      "[Feature selection](http://scikit-learn.org/stable/modules/feature_selection.html)"
     ]
    },
    {
     "cell_type": "code",
     "collapsed": false,
     "input": [
      "from sklearn.feature_selection import SelectKBest\n",
      "from sklearn.feature_selection import chi2\n",
      "\n",
      "X, y = iris.data, iris.target\n",
      "print(X.shape)\n",
      "\n",
      "X_new = SelectKBest(chi2, k=2).fit_transform(X, y)\n",
      "print(X_new.shape)\n"
     ],
     "language": "python",
     "metadata": {},
     "outputs": [
      {
       "output_type": "stream",
       "stream": "stdout",
       "text": [
        "(150, 4)\n",
        "(150, 2)\n"
       ]
      }
     ],
     "prompt_number": 17
    },
    {
     "cell_type": "markdown",
     "metadata": {},
     "source": [
      "\u7279\u5fb4\u91cf\u304c2\u3064\u6e1b\u3063\u3066\u3044\u308b\u3068\u601d\u3044\u307e\u3059\u3002\u3053\u306e\u3088\u3046\u306b\u3001\u4e88\u6e2c\u5024\u306b\u52b9\u3044\u3066\u3044\u306a\u3044\u7279\u5fb4\u91cf\u3092\u5916\u3057\u3066\u3044\u304f\u3053\u3068\u304c\u3067\u304d\u307e\u3059\u3002\u3053\u308c\u306f\u6b21\u5143\u524a\u9664\u3068\u5408\u308f\u305b\u3001\u975e\u5e38\u306b\u6709\u7528\u306a\u6a5f\u80fd\u3067\u3059\u3002"
     ]
    },
    {
     "cell_type": "heading",
     "level": 2,
     "metadata": {},
     "source": [
      "Store the Model"
     ]
    },
    {
     "cell_type": "markdown",
     "metadata": {},
     "source": [
      "\u5b66\u7fd2\u3057\u305f\u30e2\u30c7\u30eb\u306f\u30d5\u30a1\u30a4\u30eb\u3068\u3057\u3066\u51fa\u529b\u3057\u4fdd\u5b58\u3057\u3066\u304a\u304f\u3053\u3068\u304c\u3067\u304d\u307e\u3059\u3002  \n",
      "\u4ee5\u4e0b\u306f\u3001\u6a19\u6e96\u306e`pickle`\u3092\u4f7f\u3046\u624b\u6cd5\u3067\u3059\u3002"
     ]
    },
    {
     "cell_type": "code",
     "collapsed": false,
     "input": [
      "from sklearn import svm\n",
      "from sklearn import datasets\n",
      "\n",
      "clf = svm.SVC()\n",
      "iris = datasets.load_iris()\n",
      "X, y = iris.data, iris.target\n",
      "clf.fit(X, y)\n",
      "\n",
      "import pickle\n",
      "s = pickle.dumps(clf)  #serialize model data\n",
      "clf2 = pickle.loads(s) #load serialized model data\n"
     ],
     "language": "python",
     "metadata": {},
     "outputs": [],
     "prompt_number": 21
    },
    {
     "cell_type": "markdown",
     "metadata": {},
     "source": [
      "\u3053\u306e\u307b\u304b\u3001`sklearn.externals`\u306e`joblib`\u3092\u5229\u7528\u3057\u30d5\u30a1\u30a4\u30eb\u306b\u4fdd\u7ba1\u3059\u308b\u3053\u3068\u3082\u3067\u304d\u307e\u3059\u3002\u5927\u898f\u6a21\u306a\u30e2\u30c7\u30eb\u306a\u3069\u306b\u306f\u3053\u3061\u3089\u306e\u65b9\u304c\u3088\u3044\u3067\u3057\u3087\u3046\u3002"
     ]
    },
    {
     "cell_type": "code",
     "collapsed": false,
     "input": [
      "from sklearn.externals import joblib\n",
      "\n",
      "joblib.dump(clf, \"data/model.pkl\") \n",
      "clf = joblib.load(\"data/model.pkl\") "
     ],
     "language": "python",
     "metadata": {},
     "outputs": [],
     "prompt_number": 22
    },
    {
     "cell_type": "markdown",
     "metadata": {},
     "source": [
      "\u4ee5\u4e0a\u3067\u89e3\u8aac\u306f\u7d42\u4e86\u3067\u3059\u3002scikit-learn\u306f[\u516c\u5f0f\u30c9\u30ad\u30e5\u30e1\u30f3\u30c8](http://scikit-learn.org/stable/index.html)\u304c\u5145\u5b9f\u3057\u3066\u3044\u308b\u306e\u3067\u3001\u305d\u3061\u3089\u3082\u3054\u53c2\u7167\u304f\u3060\u3055\u3044\u3002"
     ]
    }
   ],
   "metadata": {}
  }
 ]
}