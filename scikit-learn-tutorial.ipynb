{
 "metadata": {
  "name": "",
  "signature": "sha256:fc4e88f7a0a68f2209c293522c697578fff3411d563efdd3627da31bf8e01a4f"
 },
 "nbformat": 3,
 "nbformat_minor": 0,
 "worksheets": [
  {
   "cells": [
    {
     "cell_type": "markdown",
     "metadata": {},
     "source": [
      "# Introduction\n",
      "\u6a5f\u68b0\u5b66\u7fd2\u306e\u76ee\u7684\u306f\u3001\u30c7\u30fc\u30bf\u304b\u3089\u4f55\u3089\u304b\u306e\u7279\u6027\u3092\u4e88\u6e2c\u3059\u308b\u3053\u3068\u3067\u3059\u3002  \n",
      "\u30c7\u30fc\u30bf\u306f\u8907\u6570\u9805\u76ee\u306e\u30c7\u30fc\u30bf\u304b\u3089\u69cb\u6210\u3055\u308c\u307e\u3059\u304c\u3001\u3053\u306e\u9805\u76ee\u3092\u7279\u5fb4\u91cf\u3068\u547c\u3073\u307e\u3059(\u30c7\u30fc\u30bf\u306e\u7279\u5fb4\u3092\u8868\u3059\u9805\u76ee\u3001\u3068\u3044\u3046\u610f\u5473\u3067\u3059)\u3002  \n",
      "\u3053\u306e\u7279\u5fb4\u91cf\u3068\u4e88\u6e2c\u5024\u306e\u95a2\u4fc2\u3092\u5b66\u7fd2\u3055\u305b\u3001\u305d\u308c\u306b\u3088\u308a\u4e88\u6e2c\u3092\u884c\u3046\u3053\u3068\u304c\u6a5f\u68b0\u5b66\u7fd2\u306e\u30d7\u30ed\u30bb\u30b9\u306b\u306a\u308a\u307e\u3059\u3002  \n",
      "\n",
      "\u5b66\u7fd2\u306e\u65b9\u6cd5\u306f\u5927\u304d\u304f\u5206\u3051\u30662\u3064\u3042\u308a\u307e\u3059\u3002  \n",
      "\n",
      "* \u6559\u5e2b\u6709\u308a\u5b66\u7fd2: \u30c7\u30fc\u30bf\u3068\u3001\u305d\u3053\u304b\u3089\u4e88\u6e2c\u3055\u308c\u308b\u3079\u304d\u5024(\u6b63\u89e3)\u3092\u4e0e\u3048\u308b\u3053\u3068\u3067\u5b66\u7fd2\u3055\u305b\u307e\u3059\u3002\n",
      " * \u5206\u985e: \u30c7\u30fc\u30bf\u304c\u3044\u304f\u3064\u304b\u306e\u30ab\u30c6\u30b4\u30ea\u306b\u5206\u985e\u3067\u304d\u308b\u3068\u304d\u3001\u305d\u306e\u30ab\u30c6\u30b4\u30ea\u3092\u4e88\u6e2c\u3055\u305b\u307e\u3059(\u4f8b\uff1a\u624b\u66f8\u304d\u306e\u6570\u5b57\u304c0\uff5e9\u306e\u4f55\u308c\u304b\u3067\u3042\u308b\u304b\u5224\u5225\u3059\u308b\u306a\u3069)\n",
      " * \u56de\u5e30: \u30c7\u30fc\u30bf\u304b\u3089\u4e88\u6e2c\u3055\u308c\u308b\u9023\u7d9a\u7684\u306a\u5024\u3092\u4e88\u6e2c\u3057\u307e\u3059(\u4f8b\uff1a\u5e74\u9f62\u3068\u4f53\u91cd\u304b\u3089\u614e\u91cd\u3092\u4e88\u6e2c\u3059\u308b\u306a\u3069)\u3002\n",
      "* \u6559\u5e2b\u306a\u3057\u5b66\u7fd2: \u30c7\u30fc\u30bf\u3092\u4e0e\u3048\u308b\u3053\u3068\u3067\u3001\u305d\u306e\u88cf\u5074\u306b\u3042\u308b\u69cb\u9020\u3092\u5b66\u7fd2\u3055\u305b\u307e\u3059\n",
      " * \u30af\u30e9\u30b9\u30bf\u30ea\u30f3\u30b0: \u4f3c\u3066\u3044\u308b\u30c7\u30fc\u30bf\u3092\u307e\u3068\u3081\u308b\u3053\u3068\u3067\u3001\u30c7\u30fc\u30bf\u304c\u3069\u308c\u304f\u3089\u3044\u306e\u96c6\u5408(\u30af\u30e9\u30b9\u30bf)\u304b\u3089\u69cb\u6210\u3055\u308c\u308b\u306e\u304b\u3092\u4e88\u6e2c\u3057\u307e\u3059\u3002\n",
      " * \u5206\u5e03\u63a8\u5b9a\uff1a \u30c7\u30fc\u30bf\u3092\u751f\u307f\u51fa\u3057\u3066\u3044\u308b\u78ba\u7387\u5206\u5e03\u306e\u63a8\u5b9a\u3092\u884c\u3044\u307e\u3059\u3002\n",
      "\n",
      "\u5b66\u7fd2\u306b\u5f53\u305f\u3063\u3066\u306f\u3001\u30c7\u30fc\u30bf\u3092\u5b66\u7fd2\u7528(training set)\u3068\u8a55\u4fa1\u7528(test set)\u306b\u5206\u3051\u307e\u3059\u3002\n",
      "\u5b66\u7fd2\u306e\u6700\u7d42\u7684\u306a\u76ee\u7684\u306f\u672a\u77e5\u306e\u30c7\u30fc\u30bf\u306b\u5bfe\u3057\u3066\u4e88\u6e2c\u3092\u884c\u3046\u3053\u3068\u3067\u3059\u3002\u5b66\u7fd2\u7528\u306e\u30c7\u30fc\u30bf\u306b\u5bfe\u3057\u3066\u4e88\u6e2c\u304c\u3046\u307e\u304f\u3044\u304f\u306e\u306f\u5f53\u305f\u308a\u524d\u306a\u306e\u3067\u3001\u5b66\u7fd2\u7528\u3068\u306f\u5225\u306b\u4e88\u6e2c\u7cbe\u5ea6\u306e\u8a55\u4fa1\u306b\u4f7f\u3046\u305f\u3081\u306e\u3001\u30e2\u30c7\u30eb\u306b\u3068\u3063\u3066\u672a\u77e5\u306e\u30c7\u30fc\u30bf\u3092\u3068\u3063\u3066\u304a\u304d\u307e\u3059\u3002\n",
      "\n",
      "\u4ee5\u4e0b\u3067\u306f\u3001\u30c7\u30fc\u30bf\u306e\u6e96\u5099\u304b\u3089\u59cb\u307e\u308a\u30e2\u30c7\u30eb\u306e\u69cb\u7bc9\u3001\n",
      "\n",
      "1. [\u30c7\u30fc\u30bf\u306e\u6e96\u5099](#Loading-the-Data) \n",
      "2. [\u30c7\u30fc\u30bf\u306e\u6574\u5099](#Arrange-the-Data) \n",
      "3. [\u30c7\u30fc\u30bf\u306e\u5206\u5272](#Split-the-Data) \n"
     ]
    },
    {
     "cell_type": "heading",
     "level": 2,
     "metadata": {},
     "source": [
      "Loading the Data"
     ]
    },
    {
     "cell_type": "markdown",
     "metadata": {},
     "source": [
      "scikit-learn\u3067\u306f\u3001\u3088\u304f\u4f8b\u3068\u3057\u3066\u5229\u7528\u3055\u308c\u308b\u30c7\u30fc\u30bf\u30bb\u30c3\u30c8(iris\u306e\u30c7\u30fc\u30bf\u3084\u624b\u66f8\u304d\u6587\u5b57\u306e\u30c7\u30fc\u30bf\u306a\u3069)\u306f\u4ee5\u4e0b\u306e\u3088\u3046\u306b\u7c21\u5358\u306b\u53d6\u5f97\u3059\u308b\u3053\u3068\u304c\u3067\u304d\u307e\u3059\u3002\n",
      "\n",
      "[Dataset loading utilities](http://scikit-learn.org/stable/datasets/index.html#datasets)"
     ]
    },
    {
     "cell_type": "code",
     "collapsed": false,
     "input": [
      "from sklearn import datasets\n",
      "iris = datasets.load_iris()\n",
      "digits = datasets.load_digits()"
     ],
     "language": "python",
     "metadata": {},
     "outputs": [],
     "prompt_number": 1
    },
    {
     "cell_type": "markdown",
     "metadata": {},
     "source": [
      "\u30c7\u30fc\u30bf\u30bb\u30c3\u30c8\u306f\u3001\u4ee5\u4e0b\u306e\u5185\u5bb9\u3067\u69cb\u6210\u3055\u308c\u3066\u3044\u307e\u3059\u3002\n",
      "\n",
      "* `data`: \u30c7\u30fc\u30bf\u672c\u4f53(\u5e38\u306b\u30b5\u30f3\u30d7\u30eb\u00d7\u7279\u5fb4\u91cf\u306e\u4e8c\u6b21\u5143\u914d\u5217\u3002\u753b\u50cf\u306a\u3069\u30c7\u30fc\u30bf\u81ea\u4f53\u304c2\u6b21\u5143\u3067\u8868\u793a\u3055\u308c\u308b\u5834\u5408\u306f\u3001`images`\u304b\u3089\u30a2\u30af\u30bb\u30b9\u3067\u304d\u308b)\n",
      "* `target`: \u30c7\u30fc\u30bf\u304b\u3089\u4e88\u6e2c\u3055\u308c\u308b\u3079\u304d\u6b63\u89e3(\u6559\u5e2b\u30c7\u30fc\u30bf)\n",
      "* `feature_names`: \u7279\u5fb4\u91cf\u9805\u76ee\u306e\u540d\u524d\n",
      "* `target_names` : \u4e88\u6e2c\u5024\u9805\u76ee\u306e\u540d\u524d\n",
      "* `DESCR`: \u30c7\u30fc\u30bf\u306e\u8aac\u660e"
     ]
    },
    {
     "cell_type": "code",
     "collapsed": false,
     "input": [
      "print(iris.keys())\n"
     ],
     "language": "python",
     "metadata": {},
     "outputs": [
      {
       "output_type": "stream",
       "stream": "stdout",
       "text": [
        "dict_keys(['target', 'target_names', 'feature_names', 'data', 'DESCR'])\n"
       ]
      }
     ],
     "prompt_number": 4
    },
    {
     "cell_type": "markdown",
     "metadata": {},
     "source": [
      "\u901a\u5e38\u306e\u30c7\u30fc\u30bf\u8aad\u307f\u8fbc\u307f\u306b\u306f\u3001Python\u306b\u6a19\u6e96\u3067\u642d\u8f09\u3055\u308c\u3066\u3044\u308b`csv`\u306a\u3069\u304c\u4f7f\u3048\u307e\u3059\u3002"
     ]
    },
    {
     "cell_type": "code",
     "collapsed": false,
     "input": [
      "import csv\n",
      "\n",
      "encoding = \"utf-8\"\n",
      "with open(\"./data/ratings.txt\", encoding=\"utf-8\") as f:\n",
      "    content = csv.reader(f, delimiter=\"\\t\")\n",
      "    lines = list(content)\n",
      "    print(lines)"
     ],
     "language": "python",
     "metadata": {},
     "outputs": [
      {
       "output_type": "stream",
       "stream": "stdout",
       "text": [
        "[['1', 'good'], ['2', 'bad'], ['3', 'vgood']]\n"
       ]
      }
     ],
     "prompt_number": 19
    },
    {
     "cell_type": "markdown",
     "metadata": {},
     "source": [
      "\u30c7\u30fc\u30bf\u306e\u4e2d\u306b\u306f\u4e0a\u8a18\u306e`good`\u306a\u3069\u30c6\u30ad\u30b9\u30c8\u306e\u30c7\u30fc\u30bf\u304c\u542b\u307e\u308c\u308b\u3053\u3068\u304c\u3042\u308a\u307e\u3059\u304c\u3001\u6700\u7d42\u7684\u306b\u306f\u6570\u5024\u306b\u3057\u306a\u3044\u3068\u30c7\u30fc\u30bf\u3092\u5b66\u7fd2\u3055\u305b\u308b\u3053\u3068\u304c\u3067\u304d\u307e\u305b\u3093\u3002  \n",
      "\u4e0a\u8a18\u306e\u30ec\u30fc\u30c6\u30a3\u30f3\u30b0\u306e\u3088\u3046\u306a\u3082\u306e\u306f\u3001`preprocessing`\u3092\u5229\u7528\u3059\u308b\u3053\u3068\u3067\u7c21\u5358\u306b\u6570\u5024\u3078\u5909\u63db\u3059\u308b\u3053\u3068\u304c\u3067\u304d\u307e\u3059\u3002"
     ]
    },
    {
     "cell_type": "code",
     "collapsed": false,
     "input": [
      "from sklearn import preprocessing\n",
      "\n",
      "le = preprocessing.LabelEncoder()\n",
      "le.fit([\"bad\", \"nbad\", \"good\", \"vgood\"])\n",
      "\n",
      "ratings = np.array(lines)\n",
      "ratings[:, 1] = le.transform(ratings[:, 1])\n",
      "\n",
      "print(ratings)"
     ],
     "language": "python",
     "metadata": {},
     "outputs": [
      {
       "output_type": "stream",
       "stream": "stdout",
       "text": [
        "[['1' '1']\n",
        " ['2' '0']\n",
        " ['3' '3']]\n"
       ]
      }
     ],
     "prompt_number": 24
    },
    {
     "cell_type": "heading",
     "level": 2,
     "metadata": {},
     "source": [
      "Arrange the Data"
     ]
    },
    {
     "cell_type": "markdown",
     "metadata": {},
     "source": [
      "\u30c7\u30fc\u30bf\u3092\u69cb\u6210\u3059\u308b\u5404\u7279\u5fb4\u91cf\u306e\u5e73\u5747\u3001\u5206\u6563\u306f\u305d\u308c\u305e\u308c\u7570\u306a\u3063\u3066\u3044\u307e\u3059\u3002  \n",
      "\u3053\u306e\u72b6\u614b\u3060\u3068\u5b66\u7fd2\u304c\u52b9\u7387\u7684\u306b\u9032\u307e\u306a\u3044\u305f\u3081\u3001\u5404\u7279\u5fb4\u91cf\u306e\u5e73\u5747\u30920\u30fb\u5206\u6563\u30921\u306b\u305d\u308d\u3048\u308b\u6b63\u898f\u5316(Normalization)\u3092\u884c\u3046\u3053\u3068\u304c\u4e00\u822c\u7684\u3067\u3059\u3002  \n",
      "(\u3053\u308c\u306b\u52a0\u3048\u3001\u7279\u5fb4\u91cf\u9593\u306e\u76f8\u95a2\u3092\u6d88\u3059\u767d\u8272\u5316(Whitening)\u307e\u3067\u884c\u3046\u3053\u3068\u3082\u3042\u308a\u307e\u3059)\u3002  \n",
      "\n",
      "scikit-learn\u3067\u306f\u5148\u307b\u3069\u306e[`preprocessing`](http://scikit-learn.org/stable/modules/preprocessing.html)\u3092\u4f7f\u7528\u3059\u308b\u3053\u3068\u3067\u3053\u306e\u4f5c\u696d\u3092\u3068\u3066\u3082\u7c21\u5358\u306b\u884c\u3046\u3053\u3068\u304c\u3067\u304d\u307e\u3059\u3002"
     ]
    },
    {
     "cell_type": "code",
     "collapsed": false,
     "input": [
      "import numpy as np\n",
      "from sklearn import preprocessing\n",
      "\n",
      "iris_data = iris[\"data\"]\n",
      "scaler = preprocessing.StandardScaler().fit(iris_data)\n",
      "describe = lambda t, x: (t + \":\\n {0}\").format({\"mean\": np.mean(x, axis=0), \"std\": np.std(x, axis=0)})\n",
      "\n",
      "# before scaling\n",
      "print(describe(\"Before scaling\", iris_data))\n",
      "\n",
      "# scaling\n",
      "iris_data_scaled = scaler.transform(iris_data)\n",
      "print(describe(\"After scaling (mean is almost 0, std = 1)\", iris_data_scaled))\n",
      "\n",
      "# inverse\n",
      "iris_data_inv = scaler.inverse_transform(iris_data_scaled)\n",
      "print(describe(\"Inverse the scaling\", iris_data_inv))"
     ],
     "language": "python",
     "metadata": {},
     "outputs": [
      {
       "output_type": "stream",
       "stream": "stdout",
       "text": [
        "Before scaling:\n",
        " {'mean': array([ 5.84333333,  3.054     ,  3.75866667,  1.19866667]), 'std': array([ 0.82530129,  0.43214658,  1.75852918,  0.76061262])}\n",
        "After scaling (mean is almost 0, std = 1):\n",
        " {'mean': array([ -1.69031455e-15,  -1.63702385e-15,  -1.48251781e-15,\n",
        "        -1.62314606e-15]), 'std': array([ 1.,  1.,  1.,  1.])}\n",
        "Inverse the scaling:\n",
        " {'mean': array([ 5.84333333,  3.054     ,  3.75866667,  1.19866667]), 'std': array([ 0.82530129,  0.43214658,  1.75852918,  0.76061262])}\n"
       ]
      }
     ],
     "prompt_number": 33
    },
    {
     "cell_type": "markdown",
     "metadata": {},
     "source": [
      "\u203b`preprocessing`\u306b\u306f`Normalization`\u3068\u3044\u3046\u30e2\u30b8\u30e5\u30fc\u30eb\u304c\u3042\u308a\u307e\u3059\u304c\u3001\u3053\u308c\u306f\u4e00\u822c\u7684\u306b\u8a00\u3046\u6b63\u898f\u5316\u3092\u884c\u3046\u305f\u3081\u306e\u3082\u306e\u3067\u306f\u306a\u3044\u306e\u3067\u6ce8\u610f\u3057\u3066\u304f\u3060\u3055\u3044\u3002  \n",
      "\n",
      "\u3053\u306e\u4ed6\u306b\u3082\u6b20\u640d\u5024\u306e\u4fee\u6b63\u3092\u884c\u3046`Imputer`\u306a\u3069\u3001`preprocessing`\u306b\u306f\u30c7\u30fc\u30bf\u306e\u6574\u5099\u306b\u5f79\u7acb\u3064\u30e2\u30b8\u30e5\u30fc\u30eb\u304c\u542b\u307e\u308c\u3066\u3044\u307e\u3059\u3002\n"
     ]
    },
    {
     "cell_type": "heading",
     "level": 2,
     "metadata": {},
     "source": [
      "Split the Data"
     ]
    },
    {
     "cell_type": "markdown",
     "metadata": {},
     "source": [
      "\u6700\u521d\u306b\u8ff0\u3079\u305f\u3068\u304a\u308a\u3001\u5b66\u7fd2\u3092\u884c\u3046\u306b\u5f53\u305f\u3063\u3066\u306f\u30c7\u30fc\u30bf\u3092\u4e8b\u524d\u306b\u5b66\u7fd2\u7528\u30fb\u8a55\u4fa1\u7528\u306b\u5206\u5272\u3057\u3066\u304a\u304d\u307e\u3059\u3002  \n",
      "\u30c7\u30fc\u30bf\u5168\u4f53\u3092\u4f55\u500b\u304b\u306b\u5206\u5272\u3057\u3001\u8a55\u4fa1\u7528\u3068\u3057\u3066\u4f7f\u3046\u30c7\u30fc\u30bf\u3092\u5207\u308a\u66ff\u3048\u3066\u3044\u304f\u3068\u3044\u3046\u65b9\u6cd5\u3082\u3042\u308a\u307e\u3059(\u3053\u308c\u306b\u3088\u308a\u3001\u5c11\u306a\u3044\u30c7\u30fc\u30bf\u3067\u3082\u52b9\u7387\u7684\u306b\u5b66\u7fd2\u3092\u884c\u3046\u3053\u3068\u304c\u3067\u304d\u307e\u3059)\u3002\u3053\u308c\u306fCross Validation\u3068\u547c\u3070\u308c\u308b\u624b\u6cd5\u3067\u3059\u304c\u3001scikit-learn\u3067\u306f\u5358\u7d14\u306a\u5206\u5272\u304b\u3089\u3053\u306eCross Validation\u307e\u3067\u3001[`Cross-validation`](http://scikit-learn.org/stable/modules/cross_validation.html#cross-validation)\u306e\u30e2\u30b8\u30e5\u30fc\u30eb\u3067\u884c\u3048\u308b\u3088\u3046\u306b\u306a\u3063\u3066\u3044\u307e\u3059\u3002\n"
     ]
    },
    {
     "cell_type": "code",
     "collapsed": false,
     "input": [
      "from sklearn import cross_validation\n",
      "\n",
      "test_size = 0.3\n",
      "X_train, X_test, y_train, y_test = cross_validation.train_test_split(iris.data, iris.target, test_size=test_size, random_state=0)\n",
      "test_data_rate = X_test.shape[0] * 100 / (X_train.shape[0] + X_test.shape[0])\n",
      "\n",
      "print(\"test data is {0}% of data\".format(test_data_rate))"
     ],
     "language": "python",
     "metadata": {},
     "outputs": [
      {
       "output_type": "stream",
       "stream": "stdout",
       "text": [
        "test data is 30.0% of data\n"
       ]
      }
     ],
     "prompt_number": 39
    },
    {
     "cell_type": "markdown",
     "metadata": {},
     "source": [
      "Cross Validation\u3092\u5229\u7528\u3059\u308b\u969b\u306f\u3001\u30c7\u30fc\u30bf\u306e\u5206\u5272\u3068\u5b66\u7fd2\u3092\u5408\u308f\u305b\u3066\u884c\u3063\u3066\u304f\u308c\u308b`cross_val_score`\u3092\u5229\u7528\u3059\u308b\u306e\u304c\u7c21\u5358\u3067\u3059\u304c(\u5f8c\u8ff0\u3057\u307e\u3059)\u3001\u30c7\u30fc\u30bf\u306e\u5206\u5272\u306e\u307f\u884c\u3046\u5834\u5408\u306f`KFold`\u3092\u5229\u7528\u3057\u307e\u3059\u3002"
     ]
    },
    {
     "cell_type": "code",
     "collapsed": false,
     "input": [
      "from sklearn.cross_validation import KFold\n",
      "\n",
      "length = len(iris.target)\n",
      "split_count = 3\n",
      "kf = KFold(length, n_folds=split_count)\n",
      "\n",
      "for i, train_test_indexes in enumerate(kf):\n",
      "    train, test = train_test_indexes\n",
      "    x_train = iris.data[train]\n",
      "    y_train = iris.target[train]\n",
      "    \n",
      "    x_test = iris.data[test]\n",
      "    y_test = iris.target[test]\n",
      "\n",
      "    print(\"{0}: training {1}, test {2}\".format(i, len(y_train), len(y_test)))\n"
     ],
     "language": "python",
     "metadata": {},
     "outputs": [
      {
       "output_type": "stream",
       "stream": "stdout",
       "text": [
        "0: training 100, test 50\n",
        "1: training 100, test 50\n",
        "2: training 100, test 50\n"
       ]
      }
     ],
     "prompt_number": 42
    },
    {
     "cell_type": "markdown",
     "metadata": {},
     "source": [
      "\u3053\u308c\u3067\u30c7\u30fc\u30bf\u306e\u6574\u5099\u3001\u304a\u3088\u3073\u5206\u5272\u304c\u5b8c\u4e86\u3057\u307e\u3057\u305f\u3002\u3053\u3053\u304b\u3089\u306f\u3001\u3044\u3088\u3044\u3088\u30e2\u30c7\u30eb\u306e\u69cb\u7bc9\u3068\u5b66\u7fd2\u3092\u884c\u3063\u3066\u3044\u304d\u307e\u3059\u3002"
     ]
    },
    {
     "cell_type": "code",
     "collapsed": false,
     "input": [],
     "language": "python",
     "metadata": {},
     "outputs": []
    }
   ],
   "metadata": {}
  }
 ]
}